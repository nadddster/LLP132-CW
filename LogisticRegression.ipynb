{
 "cells": [
  {
   "cell_type": "code",
   "execution_count": 1,
   "id": "e1c95bc7",
   "metadata": {},
   "outputs": [],
   "source": [
    "import numpy as np"
   ]
  },
  {
   "cell_type": "code",
   "execution_count": 2,
   "id": "09cad832",
   "metadata": {},
   "outputs": [
    {
     "name": "stdout",
     "output_type": "stream",
     "text": [
      "The input vector:\n",
      " [[0.1]\n",
      " [0.2]\n",
      " [0.3]] \n",
      "\n",
      "Input vector has shape (m,n): (3, 1)\n"
     ]
    }
   ],
   "source": [
    "input_vector_X = np.array([[0.1,0.2,0.3]]) #input a row vector\n",
    "input_vector_X = np.transpose(input_vector_X) #transpose into a column vector with dimension 3x1\n",
    "print(\"The input vector:\\n\", input_vector_X, \"\\n\")\n",
    "print(\"Input vector has shape (m,n):\", input_vector_X.shape)"
   ]
  },
  {
   "cell_type": "code",
   "execution_count": 3,
   "id": "c06bc75c",
   "metadata": {},
   "outputs": [
    {
     "name": "stdout",
     "output_type": "stream",
     "text": [
      "The weight matrix:\n",
      " [[0.65 0.1  0.85]\n",
      " [0.1  0.25 0.32]\n",
      " [0.3  0.3  0.45]\n",
      " [0.45 0.45 0.85]] \n",
      "\n",
      "Weight matrix has shape (m,n): (4, 3)\n"
     ]
    }
   ],
   "source": [
    "weight_matrix_W = np.array([[0.65,0.10,0.85],[0.10,0.25,0.32],[0.3,0.3,0.45],[0.45,0.45,0.85]]) \n",
    "\n",
    "print(\"The weight matrix:\\n\", weight_matrix_W, \"\\n\")\n",
    "print(\"Weight matrix has shape (m,n):\", weight_matrix_W.shape)"
   ]
  },
  {
   "cell_type": "code",
   "execution_count": 4,
   "id": "195f5cb0",
   "metadata": {},
   "outputs": [
    {
     "name": "stdout",
     "output_type": "stream",
     "text": [
      "The output vector:\n",
      " [[0.34 ]\n",
      " [0.156]\n",
      " [0.225]\n",
      " [0.39 ]] \n",
      "\n",
      "Output vector has shape (m,n): (4, 1)\n"
     ]
    }
   ],
   "source": [
    "output_vector_Y = np.dot(weight_matrix_W,input_vector_X)\n",
    "\n",
    "print(\"The output vector:\\n\", output_vector_Y, \"\\n\")\n",
    "print(\"Output vector has shape (m,n):\", output_vector_Y.shape)"
   ]
  }
 ],
 "metadata": {
  "kernelspec": {
   "display_name": "Python 3 (ipykernel)",
   "language": "python",
   "name": "python3"
  },
  "language_info": {
   "codemirror_mode": {
    "name": "ipython",
    "version": 3
   },
   "file_extension": ".py",
   "mimetype": "text/x-python",
   "name": "python",
   "nbconvert_exporter": "python",
   "pygments_lexer": "ipython3",
   "version": "3.9.13"
  }
 },
 "nbformat": 4,
 "nbformat_minor": 5
}
